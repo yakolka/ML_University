{
 "cells": [
  {
   "cell_type": "markdown",
   "id": "af9e2722",
   "metadata": {},
   "source": [
    "Ящук Микола"
   ]
  },
  {
   "cell_type": "code",
   "execution_count": 58,
   "id": "339b7285",
   "metadata": {},
   "outputs": [],
   "source": [
    "import pandas as pd\n",
    "\n",
    "import numpy as np\n",
    "from sklearn.datasets import load_breast_cancer\n",
    "from sklearn.linear_model import LogisticRegression, LogisticRegressionCV\n",
    "from sklearn.model_selection import train_test_split\n",
    "from sklearn.metrics import accuracy_score\n",
    "from sklearn.metrics import confusion_matrix as cm"
   ]
  },
  {
   "cell_type": "code",
   "execution_count": 5,
   "id": "798ae28e",
   "metadata": {},
   "outputs": [],
   "source": [
    "df_path = r'C:\\Users\\yaschuk\\Desktop\\donner_party1.csv'"
   ]
  },
  {
   "cell_type": "code",
   "execution_count": 6,
   "id": "e4f1855f",
   "metadata": {},
   "outputs": [],
   "source": [
    "df = pd.read_csv(df_path)"
   ]
  },
  {
   "cell_type": "code",
   "execution_count": 8,
   "id": "4fe98a5a",
   "metadata": {},
   "outputs": [
    {
     "data": {
      "text/html": [
       "<div>\n",
       "<style scoped>\n",
       "    .dataframe tbody tr th:only-of-type {\n",
       "        vertical-align: middle;\n",
       "    }\n",
       "\n",
       "    .dataframe tbody tr th {\n",
       "        vertical-align: top;\n",
       "    }\n",
       "\n",
       "    .dataframe thead th {\n",
       "        text-align: right;\n",
       "    }\n",
       "</style>\n",
       "<table border=\"1\" class=\"dataframe\">\n",
       "  <thead>\n",
       "    <tr style=\"text-align: right;\">\n",
       "      <th></th>\n",
       "      <th>Survived</th>\n",
       "      <th>Name</th>\n",
       "      <th>Sex</th>\n",
       "      <th>Age</th>\n",
       "      <th>Marital Status</th>\n",
       "    </tr>\n",
       "  </thead>\n",
       "  <tbody>\n",
       "    <tr>\n",
       "      <th>0</th>\n",
       "      <td>1</td>\n",
       "      <td>Patrick Breen</td>\n",
       "      <td>M</td>\n",
       "      <td>51.0</td>\n",
       "      <td>M</td>\n",
       "    </tr>\n",
       "    <tr>\n",
       "      <th>1</th>\n",
       "      <td>1</td>\n",
       "      <td>Margaret Breen</td>\n",
       "      <td>F</td>\n",
       "      <td>40.0</td>\n",
       "      <td>M</td>\n",
       "    </tr>\n",
       "    <tr>\n",
       "      <th>2</th>\n",
       "      <td>1</td>\n",
       "      <td>John Breen</td>\n",
       "      <td>M</td>\n",
       "      <td>14.0</td>\n",
       "      <td>S</td>\n",
       "    </tr>\n",
       "    <tr>\n",
       "      <th>3</th>\n",
       "      <td>1</td>\n",
       "      <td>Patrick Breen Jr.</td>\n",
       "      <td>M</td>\n",
       "      <td>9.0</td>\n",
       "      <td>S</td>\n",
       "    </tr>\n",
       "    <tr>\n",
       "      <th>4</th>\n",
       "      <td>1</td>\n",
       "      <td>Simon Preston Breen</td>\n",
       "      <td>M</td>\n",
       "      <td>8.0</td>\n",
       "      <td>S</td>\n",
       "    </tr>\n",
       "  </tbody>\n",
       "</table>\n",
       "</div>"
      ],
      "text/plain": [
       "   Survived                 Name Sex   Age Marital Status\n",
       "0         1        Patrick Breen   M  51.0              M\n",
       "1         1       Margaret Breen   F  40.0              M\n",
       "2         1           John Breen   M  14.0              S\n",
       "3         1    Patrick Breen Jr.   M   9.0              S\n",
       "4         1  Simon Preston Breen   M   8.0              S"
      ]
     },
     "execution_count": 8,
     "metadata": {},
     "output_type": "execute_result"
    }
   ],
   "source": [
    "df.head()"
   ]
  },
  {
   "cell_type": "code",
   "execution_count": 9,
   "id": "c6f71a0c",
   "metadata": {},
   "outputs": [
    {
     "data": {
      "text/plain": [
       "Survived          0\n",
       "Name              0\n",
       "Sex               0\n",
       "Age               3\n",
       "Marital Status    0\n",
       "dtype: int64"
      ]
     },
     "execution_count": 9,
     "metadata": {},
     "output_type": "execute_result"
    }
   ],
   "source": [
    "df.isnull().sum()"
   ]
  },
  {
   "cell_type": "code",
   "execution_count": 10,
   "id": "5edee108",
   "metadata": {},
   "outputs": [],
   "source": [
    "df = df.drop(columns = ['Name' , 'Marital Status'])"
   ]
  },
  {
   "cell_type": "code",
   "execution_count": 12,
   "id": "fc4f307f",
   "metadata": {},
   "outputs": [],
   "source": [
    "df = df.dropna()"
   ]
  },
  {
   "cell_type": "code",
   "execution_count": 33,
   "id": "505ff4cd",
   "metadata": {},
   "outputs": [
    {
     "name": "stderr",
     "output_type": "stream",
     "text": [
      "c:\\users\\yaschuk\\appdata\\local\\programs\\python\\python37-32\\lib\\site-packages\\ipykernel_launcher.py:2: SettingWithCopyWarning: \n",
      "A value is trying to be set on a copy of a slice from a DataFrame.\n",
      "Try using .loc[row_indexer,col_indexer] = value instead\n",
      "\n",
      "See the caveats in the documentation: https://pandas.pydata.org/pandas-docs/stable/user_guide/indexing.html#returning-a-view-versus-a-copy\n",
      "  \n"
     ]
    }
   ],
   "source": [
    "df.Sex = pd.Categorical(df.Sex)\n",
    "df['Sex1'] = df.Sex.cat.codes"
   ]
  },
  {
   "cell_type": "code",
   "execution_count": 63,
   "id": "1c586ff6",
   "metadata": {},
   "outputs": [
    {
     "name": "stdout",
     "output_type": "stream",
     "text": [
      "Logistic model\n",
      "0.6666666666666666\n",
      "[[ 1  4]\n",
      " [ 2 11]]\n",
      "Logistic model with CV\n",
      "0.6901098901098901\n",
      "[[ 1  4]\n",
      " [ 2 11]]\n"
     ]
    }
   ],
   "source": [
    "X = df[['Age', 'Sex1']]\n",
    "y = df['Survived']\n",
    "\n",
    "\n",
    "X_train, X_test, y_train, y_test = train_test_split(X, y, test_size=0.2)\n",
    "\n",
    "estimator = LogisticRegression(random_state=42, solver='liblinear')\n",
    "\n",
    "model = estimator.fit(X_train, y_train)\n",
    "\n",
    "y_pred = model.predict(X_test)\n",
    "\n",
    "score =accuracy_score(y_test,y_pred)\n",
    "print('Logistic model')\n",
    "print(score)\n",
    "\n",
    "print (cm(y_test, y_pred))\n",
    "\n",
    "\n",
    "lrcv = LogisticRegressionCV(Cs=list(np.power(10.0, np.arange(-10, 10))),\n",
    "                        cv=5, scoring='accuracy', solver='liblinear', random_state=42)\n",
    "\n",
    "lrcv.fit(X_train, y_train)\n",
    "y_pred = lrcv.predict(X_test)\n",
    "print('Logistic model with CV')\n",
    "print(lrcv.scores_[1].mean(axis=0).max()) \n",
    "print (cm(y_test, y_pred))"
   ]
  }
 ],
 "metadata": {
  "kernelspec": {
   "display_name": "Python 3 (ipykernel)",
   "language": "python",
   "name": "python3"
  },
  "language_info": {
   "codemirror_mode": {
    "name": "ipython",
    "version": 3
   },
   "file_extension": ".py",
   "mimetype": "text/x-python",
   "name": "python",
   "nbconvert_exporter": "python",
   "pygments_lexer": "ipython3",
   "version": "3.7.0"
  }
 },
 "nbformat": 4,
 "nbformat_minor": 5
}
